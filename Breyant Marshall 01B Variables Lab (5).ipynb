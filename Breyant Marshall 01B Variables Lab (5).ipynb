{
 "cells": [
  {
   "cell_type": "markdown",
   "metadata": {},
   "source": [
    "# Lab: Variables\n",
    "\n",
    "## Workbook Overview\n",
    "\n",
    "## Lab Setup and Explanation\n",
    "Section 1: Value & Variable Manipulation\n",
    "\n",
    "Welcome to your First Python Lab! In this Lab, we'll delve into the fundamental concept of variables in Python. You've already gained a foundational understanding of Python programming, and now it's time to apply and expand that knowledge with a focus on variables.\n",
    "\n",
    "This lab is structured into several sections, each designed to enhance your understanding of how variables work in Python. You can easily navigate through these sections using the links provided in the Workbook Overview located above. Each section contains a series of tasks, designed to progressively challenge and build your skills.\n",
    "\n",
    "To make it easier for you, tasks are highlighted in yellow boxes. These tasks will range from basic to more complex applications of variables, ensuring a comprehensive learning experience.\n",
    "\n",
    "Let's start with an example task to get you warmed up:\n",
    "\n",
    "### Task 0: Print \"Hello World\""
   ]
  },
  {
   "cell_type": "code",
   "execution_count": 1,
   "metadata": {
    "ExecuteTime": {
     "end_time": "2024-01-17T18:58:15.200493Z",
     "start_time": "2024-01-17T18:58:15.188219Z"
    }
   },
   "outputs": [
    {
     "name": "stdout",
     "output_type": "stream",
     "text": [
      "Hello World\n"
     ]
    }
   ],
   "source": [
    "# Your solution goes here\n",
    "print('Hello World')"
   ]
  },
  {
   "cell_type": "markdown",
   "metadata": {},
   "source": [
    "You are welcome to make as many extra code cells as you would like, just remember to clean up your notebook before submitting your work. \n",
    "\n",
    "The easier your work is to check, the more we can focus on giving feedback instead of hunting down answers.\n",
    "\n",
    "With that being said, we hope you have fun with this lab!~"
   ]
  },
  {
   "cell_type": "markdown",
   "metadata": {},
   "source": [
    "<a name=\"anchorSection1\" style=\"position:absolute;\"></a>\n",
    "<hr style=\"border:2px solid\">\n",
    "\n",
    "# Section 1: Value & Variable Manipulation\n",
    "<hr style=\"border-top:1px dashed\">\n",
    "Future lab sections will have different sections, but as this first one covers the basics it all falls under the same umbrella of value & variable manipulation.\n",
    "\n",
    "Please answer the tasks in the code cells provided below them.\n",
    "\n"
   ]
  },
  {
   "cell_type": "markdown",
   "metadata": {
    "id": "kDKuWh8lGmBe"
   },
   "source": [
    "# Task 1</b>\n",
    "\n",
    "What are the types of the following variables?\n",
    "                \n",
    "                   \n",
    "```python\n",
    "  a = 1\n",
    "  b = False\n",
    "  c = 2.6\n",
    "  d = 'integer'\n",
    "  e = True\n",
    "```"
   ]
  },
  {
   "cell_type": "code",
   "execution_count": 2,
   "metadata": {
    "id": "_1b6-zoYGmBf"
   },
   "outputs": [],
   "source": [
    "# Your Answers Go Here:\n",
    "# ---------------------\n",
    "#     a: Integer\n",
    "#     b: Boolean\n",
    "#     c:Float \n",
    "#     d:String \n",
    "#     e: Boolean"
   ]
  },
  {
   "cell_type": "markdown",
   "metadata": {},
   "source": [
    "# Task 2-4: Use 3 different Arithmetic Operators on the numbers 7 and 4."
   ]
  },
  {
   "cell_type": "code",
   "execution_count": 3,
   "metadata": {
    "ExecuteTime": {
     "end_time": "2024-01-17T19:01:22.801562Z",
     "start_time": "2024-01-17T19:01:22.783259Z"
    }
   },
   "outputs": [
    {
     "data": {
      "text/plain": [
       "28"
      ]
     },
     "execution_count": 3,
     "metadata": {},
     "output_type": "execute_result"
    }
   ],
   "source": [
    "# Method 1\n",
    "7*4"
   ]
  },
  {
   "cell_type": "code",
   "execution_count": 4,
   "metadata": {
    "ExecuteTime": {
     "end_time": "2024-01-17T19:01:30.909153Z",
     "start_time": "2024-01-17T19:01:30.894150Z"
    }
   },
   "outputs": [
    {
     "data": {
      "text/plain": [
       "1.75"
      ]
     },
     "execution_count": 4,
     "metadata": {},
     "output_type": "execute_result"
    }
   ],
   "source": [
    "# Method 2\n",
    "7/4"
   ]
  },
  {
   "cell_type": "code",
   "execution_count": 5,
   "metadata": {
    "ExecuteTime": {
     "end_time": "2024-01-17T19:01:40.810907Z",
     "start_time": "2024-01-17T19:01:40.797618Z"
    }
   },
   "outputs": [
    {
     "data": {
      "text/plain": [
       "11"
      ]
     },
     "execution_count": 5,
     "metadata": {},
     "output_type": "execute_result"
    }
   ],
   "source": [
    "# Method 3\n",
    "7+4"
   ]
  },
  {
   "cell_type": "markdown",
   "metadata": {},
   "source": [
    "# Task 5: Create the variable word1 and assign it the value of \"Python\""
   ]
  },
  {
   "cell_type": "code",
   "execution_count": 6,
   "metadata": {
    "ExecuteTime": {
     "end_time": "2024-01-17T19:02:51.032696Z",
     "start_time": "2024-01-17T19:02:51.025696Z"
    }
   },
   "outputs": [],
   "source": [
    "word1 = \"Python\""
   ]
  },
  {
   "cell_type": "markdown",
   "metadata": {},
   "source": [
    "# Task 6: Create the variable word2 and assign it the value of \"Lab\""
   ]
  },
  {
   "cell_type": "code",
   "execution_count": 7,
   "metadata": {
    "ExecuteTime": {
     "end_time": "2024-01-17T19:03:09.165691Z",
     "start_time": "2024-01-17T19:03:09.155174Z"
    }
   },
   "outputs": [],
   "source": [
    "word2 = \"Lab\""
   ]
  },
  {
   "cell_type": "markdown",
   "metadata": {},
   "source": [
    "# Task 7-8 Using the two variables from the previous two tasks, create the following output using one print() statement in two different ways:\n",
    "               \n",
    "```Python Lab```"
   ]
  },
  {
   "cell_type": "code",
   "execution_count": 8,
   "metadata": {
    "ExecuteTime": {
     "end_time": "2024-01-17T19:05:30.129955Z",
     "start_time": "2024-01-17T19:05:30.117139Z"
    }
   },
   "outputs": [
    {
     "name": "stdout",
     "output_type": "stream",
     "text": [
      "Python Lab\n"
     ]
    }
   ],
   "source": [
    "print (word1, word2)"
   ]
  },
  {
   "cell_type": "code",
   "execution_count": 9,
   "metadata": {
    "ExecuteTime": {
     "end_time": "2024-01-17T19:07:03.010171Z",
     "start_time": "2024-01-17T19:07:02.996946Z"
    }
   },
   "outputs": [
    {
     "name": "stdout",
     "output_type": "stream",
     "text": [
      "Python Lab\n"
     ]
    }
   ],
   "source": [
    "# Method 2\n",
    "print(word1 +\" \"+ word2)"
   ]
  },
  {
   "cell_type": "markdown",
   "metadata": {},
   "source": [
    "# Task 9: Using formatting (.format() or %), print the following string using the provided variables.\n",
    "                \n",
    "```The diameter of Earth is 12742 kilometers.```"
   ]
  },
  {
   "cell_type": "code",
   "execution_count": 10,
   "metadata": {
    "ExecuteTime": {
     "end_time": "2024-01-17T19:14:56.397738Z",
     "start_time": "2024-01-17T19:14:56.390322Z"
    }
   },
   "outputs": [],
   "source": [
    "# Given variables\n",
    "planet = \"Earth\"\n",
    "diameter = 12742"
   ]
  },
  {
   "cell_type": "code",
   "execution_count": 11,
   "metadata": {
    "ExecuteTime": {
     "end_time": "2024-01-17T19:19:34.358863Z",
     "start_time": "2024-01-17T19:19:34.347718Z"
    }
   },
   "outputs": [
    {
     "name": "stdout",
     "output_type": "stream",
     "text": [
      "The diameter of Earth is 12742 kilometers.\n"
     ]
    }
   ],
   "source": [
    "# Your solution goes here\n",
    "print (\"The diameter of %s is %d kilometers.\" % (planet, diameter))"
   ]
  },
  {
   "cell_type": "markdown",
   "metadata": {},
   "source": [
    "# Task 10: Assign the length of the string to the variable sLen"
   ]
  },
  {
   "cell_type": "code",
   "execution_count": 12,
   "metadata": {
    "ExecuteTime": {
     "end_time": "2024-01-17T19:27:19.116224Z",
     "start_time": "2024-01-17T19:27:19.108222Z"
    }
   },
   "outputs": [],
   "source": [
    "# Given variables\n",
    "s = \"tacocat\""
   ]
  },
  {
   "cell_type": "code",
   "execution_count": 13,
   "metadata": {
    "ExecuteTime": {
     "end_time": "2024-01-17T19:29:07.953450Z",
     "start_time": "2024-01-17T19:29:07.937138Z"
    }
   },
   "outputs": [
    {
     "data": {
      "text/plain": [
       "3.5"
      ]
     },
     "execution_count": 13,
     "metadata": {},
     "output_type": "execute_result"
    }
   ],
   "source": [
    "# Your solution goes here\n",
    "sLen = len(s)/2\n",
    "sLen"
   ]
  },
  {
   "cell_type": "markdown",
   "metadata": {},
   "source": [
    "# Task 11: Cast the sLen variable from the previous task as an integer. Assign this to the same variable:"
   ]
  },
  {
   "cell_type": "code",
   "execution_count": 14,
   "metadata": {
    "ExecuteTime": {
     "end_time": "2024-01-17T19:29:18.421575Z",
     "start_time": "2024-01-17T19:29:18.407451Z"
    }
   },
   "outputs": [
    {
     "data": {
      "text/plain": [
       "3"
      ]
     },
     "execution_count": 14,
     "metadata": {},
     "output_type": "execute_result"
    }
   ],
   "source": [
    "#Ignore if you like\n",
    "sLen = int(sLen)\n",
    "sLen"
   ]
  },
  {
   "cell_type": "markdown",
   "metadata": {},
   "source": [
    "# Task 12: Using the sLen variable, only print the first 4 letters of the variable s\n",
    "Hint: You need to make sLen negative. Refer to the `Deep-Dive into Strings` section of our lecture for help.\n"
   ]
  },
  {
   "cell_type": "code",
   "execution_count": 15,
   "metadata": {
    "ExecuteTime": {
     "end_time": "2024-01-17T19:30:56.959200Z",
     "start_time": "2024-01-17T19:30:56.947375Z"
    }
   },
   "outputs": [
    {
     "name": "stdout",
     "output_type": "stream",
     "text": [
      "taco\n"
     ]
    }
   ],
   "source": [
    "print(s[: - sLen])"
   ]
  },
  {
   "cell_type": "markdown",
   "metadata": {},
   "source": [
    "# Task 13-14: Use a string method to find how many occurrences of the key word are in the given string:\n",
    "Example of Given Variables:\n",
    "   \n",
    "                \n",
    "```\n",
    "python\n",
    "keyWord = \"is\"\n",
    "phrase = \"How is your day?\"\n",
    "```\n",
    "    \n",
    "Example of Expected Output:\n",
    "    \n",
    "```Occurrences of the keyword in the phrase: 1```"
   ]
  },
  {
   "cell_type": "code",
   "execution_count": 16,
   "metadata": {
    "ExecuteTime": {
     "end_time": "2024-01-17T19:45:26.413983Z",
     "start_time": "2024-01-17T19:45:26.405083Z"
    }
   },
   "outputs": [],
   "source": [
    "#Given Variables\n",
    "keyWord = \"wood\"\n",
    "phrase = \"How much wood would a woodchuck chuck if a woodchuck could chuck wood?\""
   ]
  },
  {
   "cell_type": "code",
   "execution_count": 17,
   "metadata": {
    "ExecuteTime": {
     "end_time": "2024-01-17T19:45:23.792592Z",
     "start_time": "2024-01-17T19:45:23.784878Z"
    }
   },
   "outputs": [],
   "source": [
    "#Given Variables\n",
    "keyWord = \"can\"\n",
    "phrase = \"can you can a can as a canner can can a can?\""
   ]
  },
  {
   "cell_type": "code",
   "execution_count": 18,
   "metadata": {
    "ExecuteTime": {
     "end_time": "2024-01-17T19:45:59.769855Z",
     "start_time": "2024-01-17T19:45:59.752717Z"
    }
   },
   "outputs": [
    {
     "data": {
      "text/plain": [
       "7"
      ]
     },
     "execution_count": 18,
     "metadata": {},
     "output_type": "execute_result"
    }
   ],
   "source": [
    "# Your solution goes here\n",
    "phrase.count(keyWord)\n",
    "phrase.count(keyWord)\n"
   ]
  },
  {
   "cell_type": "markdown",
   "metadata": {},
   "source": [
    "# Task 15: Split the given string by each word.\n",
    "```['Coding', 'is', 'Fun!']```"
   ]
  },
  {
   "cell_type": "code",
   "execution_count": 19,
   "metadata": {
    "ExecuteTime": {
     "end_time": "2024-01-17T19:41:36.368231Z",
     "start_time": "2024-01-17T19:41:36.358643Z"
    }
   },
   "outputs": [],
   "source": [
    "# Given variables\n",
    "s = 'Coding is Fun!'"
   ]
  },
  {
   "cell_type": "code",
   "execution_count": 20,
   "metadata": {
    "ExecuteTime": {
     "end_time": "2024-01-17T19:44:52.557660Z",
     "start_time": "2024-01-17T19:44:52.542659Z"
    }
   },
   "outputs": [
    {
     "data": {
      "text/plain": [
       "['Coding', 'is', 'Fun!']"
      ]
     },
     "execution_count": 20,
     "metadata": {},
     "output_type": "execute_result"
    }
   ],
   "source": [
    "# Your solution goes here\n",
    "s.split()"
   ]
  }
 ],
 "metadata": {
  "colab": {
   "name": "00 Datatypes Review Activity Student.ipynb",
   "provenance": []
  },
  "kernelspec": {
   "display_name": "Python 3 (ipykernel)",
   "language": "python",
   "name": "python3"
  },
  "language_info": {
   "codemirror_mode": {
    "name": "ipython",
    "version": 3
   },
   "file_extension": ".py",
   "mimetype": "text/x-python",
   "name": "python",
   "nbconvert_exporter": "python",
   "pygments_lexer": "ipython3",
   "version": "3.10.9"
  },
  "latex_envs": {
   "LaTeX_envs_menu_present": true,
   "autoclose": false,
   "autocomplete": true,
   "bibliofile": "biblio.bib",
   "cite_by": "apalike",
   "current_citInitial": 1,
   "eqLabelWithNumbers": true,
   "eqNumInitial": 1,
   "hotkeys": {
    "equation": "Ctrl-E",
    "itemize": "Ctrl-I"
   },
   "labels_anchors": false,
   "latex_user_defs": false,
   "report_style_numbering": false,
   "user_envs_cfg": false
  },
  "toc": {
   "base_numbering": 1,
   "nav_menu": {},
   "number_sections": false,
   "sideBar": true,
   "skip_h1_title": false,
   "title_cell": "Table of Contents",
   "title_sidebar": "Contents",
   "toc_cell": false,
   "toc_position": {
    "height": "calc(100% - 180px)",
    "left": "10px",
    "top": "150px",
    "width": "274.286px"
   },
   "toc_section_display": true,
   "toc_window_display": false
  },
  "varInspector": {
   "cols": {
    "lenName": 16,
    "lenType": 16,
    "lenVar": 40
   },
   "kernels_config": {
    "python": {
     "delete_cmd_postfix": "",
     "delete_cmd_prefix": "del ",
     "library": "var_list.py",
     "varRefreshCmd": "print(var_dic_list())"
    },
    "r": {
     "delete_cmd_postfix": ") ",
     "delete_cmd_prefix": "rm(",
     "library": "var_list.r",
     "varRefreshCmd": "cat(var_dic_list()) "
    }
   },
   "types_to_exclude": [
    "module",
    "function",
    "builtin_function_or_method",
    "instance",
    "_Feature"
   ],
   "window_display": false
  }
 },
 "nbformat": 4,
 "nbformat_minor": 4
}
